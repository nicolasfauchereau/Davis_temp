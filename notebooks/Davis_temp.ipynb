{
 "metadata": {
  "name": "",
  "signature": "sha256:05f593335d773512f47deb384ab31dc4743a750529686efc343386c5bd82ca3f"
 },
 "nbformat": 3,
 "nbformat_minor": 0,
 "worksheets": [
  {
   "cells": [
    {
     "cell_type": "heading",
     "level": 1,
     "metadata": {},
     "source": [
      "Data munging and reindexing on AWS data with missing timestamps"
     ]
    },
    {
     "cell_type": "code",
     "collapsed": false,
     "input": [
      "import os\n",
      "import pandas as pd\n",
      "import datetime\n",
      "import matplotlib.pyplot as plt"
     ],
     "language": "python",
     "metadata": {},
     "outputs": [],
     "prompt_number": 40
    },
    {
     "cell_type": "code",
     "collapsed": false,
     "input": [
      "%matplotlib inline"
     ],
     "language": "python",
     "metadata": {},
     "outputs": [],
     "prompt_number": 17
    },
    {
     "cell_type": "heading",
     "level": 3,
     "metadata": {},
     "source": [
      "dpath = where to find the data "
     ]
    },
    {
     "cell_type": "code",
     "collapsed": false,
     "input": [
      "dpath = os.path.join(os.environ['HOME'], 'research/NIWA/davis/data')"
     ],
     "language": "python",
     "metadata": {},
     "outputs": [],
     "prompt_number": 18
    },
    {
     "cell_type": "heading",
     "level": 3,
     "metadata": {},
     "source": [
      "```fname``` = filename (assumes excel)<br>  \n",
      "```sheetname``` = name of the excel sheet<br>\n",
      "```skiprows``` = number of rows to skip (zero-based index)"
     ]
    },
    {
     "cell_type": "code",
     "collapsed": false,
     "input": [
      "fname = 'KaikoheAWS_9am_12pm_temps_v2.xlsx' \n",
      "sheetname = 'Sheet1'\n",
      "skiprows = 8"
     ],
     "language": "python",
     "metadata": {},
     "outputs": [],
     "prompt_number": 19
    },
    {
     "cell_type": "code",
     "collapsed": false,
     "input": [
      "data = pd.read_excel(os.path.join(dpath, fname), sheetname, skiprows = skiprows, header = 0)"
     ],
     "language": "python",
     "metadata": {},
     "outputs": [],
     "prompt_number": 20
    },
    {
     "cell_type": "heading",
     "level": 3,
     "metadata": {},
     "source": [
      "Look at the data"
     ]
    },
    {
     "cell_type": "code",
     "collapsed": false,
     "input": [
      "data.head()"
     ],
     "language": "python",
     "metadata": {},
     "outputs": [
      {
       "html": [
        "<div style=\"max-height:1000px;max-width:1500px;overflow:auto;\">\n",
        "<table border=\"1\" class=\"dataframe\">\n",
        "  <thead>\n",
        "    <tr style=\"text-align: right;\">\n",
        "      <th></th>\n",
        "      <th>Station</th>\n",
        "      <th>Date(local)</th>\n",
        "      <th>Time(local)</th>\n",
        "      <th>Tair(C)</th>\n",
        "      <th>Twet(C)</th>\n",
        "      <th>RH(%)</th>\n",
        "      <th>Tdew(C)</th>\n",
        "      <th>Unnamed: 7</th>\n",
        "    </tr>\n",
        "  </thead>\n",
        "  <tbody>\n",
        "    <tr>\n",
        "      <th>0</th>\n",
        "      <td> Kaikohe Aws</td>\n",
        "      <td>1985-11-15</td>\n",
        "      <td> 09:00:00</td>\n",
        "      <td> 14.3</td>\n",
        "      <td>   12</td>\n",
        "      <td> 74.8</td>\n",
        "      <td>  9.9</td>\n",
        "      <td>NaN</td>\n",
        "    </tr>\n",
        "    <tr>\n",
        "      <th>1</th>\n",
        "      <td> Kaikohe Aws</td>\n",
        "      <td>1985-11-15</td>\n",
        "      <td> 12:00:00</td>\n",
        "      <td> 15.8</td>\n",
        "      <td> 12.2</td>\n",
        "      <td> 63.1</td>\n",
        "      <td>  8.8</td>\n",
        "      <td>NaN</td>\n",
        "    </tr>\n",
        "    <tr>\n",
        "      <th>2</th>\n",
        "      <td> Kaikohe Aws</td>\n",
        "      <td>1985-11-16</td>\n",
        "      <td> 09:00:00</td>\n",
        "      <td> 14.5</td>\n",
        "      <td> 12.3</td>\n",
        "      <td>   76</td>\n",
        "      <td> 10.3</td>\n",
        "      <td>NaN</td>\n",
        "    </tr>\n",
        "    <tr>\n",
        "      <th>3</th>\n",
        "      <td> Kaikohe Aws</td>\n",
        "      <td>1985-11-16</td>\n",
        "      <td> 12:00:00</td>\n",
        "      <td> 16.8</td>\n",
        "      <td> 13.5</td>\n",
        "      <td> 67.1</td>\n",
        "      <td> 10.7</td>\n",
        "      <td>NaN</td>\n",
        "    </tr>\n",
        "    <tr>\n",
        "      <th>4</th>\n",
        "      <td> Kaikohe Aws</td>\n",
        "      <td>1985-11-17</td>\n",
        "      <td> 09:00:00</td>\n",
        "      <td> 15.1</td>\n",
        "      <td> 12.7</td>\n",
        "      <td> 74.4</td>\n",
        "      <td> 10.6</td>\n",
        "      <td>NaN</td>\n",
        "    </tr>\n",
        "  </tbody>\n",
        "</table>\n",
        "<p>5 rows \u00d7 8 columns</p>\n",
        "</div>"
       ],
       "metadata": {},
       "output_type": "pyout",
       "prompt_number": 21,
       "text": [
        "       Station Date(local) Time(local)  Tair(C) Twet(C) RH(%) Tdew(C)  \\\n",
        "0  Kaikohe Aws  1985-11-15    09:00:00     14.3      12  74.8     9.9   \n",
        "1  Kaikohe Aws  1985-11-15    12:00:00     15.8    12.2  63.1     8.8   \n",
        "2  Kaikohe Aws  1985-11-16    09:00:00     14.5    12.3    76    10.3   \n",
        "3  Kaikohe Aws  1985-11-16    12:00:00     16.8    13.5  67.1    10.7   \n",
        "4  Kaikohe Aws  1985-11-17    09:00:00     15.1    12.7  74.4    10.6   \n",
        "\n",
        "   Unnamed: 7  \n",
        "0         NaN  \n",
        "1         NaN  \n",
        "2         NaN  \n",
        "3         NaN  \n",
        "4         NaN  \n",
        "\n",
        "[5 rows x 8 columns]"
       ]
      }
     ],
     "prompt_number": 21
    },
    {
     "cell_type": "heading",
     "level": 3,
     "metadata": {},
     "source": [
      "delete the ```'Unnamed: 7'``` empty column"
     ]
    },
    {
     "cell_type": "code",
     "collapsed": false,
     "input": [
      "data.drop('Unnamed: 7', axis=1, inplace=True)"
     ],
     "language": "python",
     "metadata": {},
     "outputs": [],
     "prompt_number": 22
    },
    {
     "cell_type": "code",
     "collapsed": false,
     "input": [
      "data.head()"
     ],
     "language": "python",
     "metadata": {},
     "outputs": [
      {
       "html": [
        "<div style=\"max-height:1000px;max-width:1500px;overflow:auto;\">\n",
        "<table border=\"1\" class=\"dataframe\">\n",
        "  <thead>\n",
        "    <tr style=\"text-align: right;\">\n",
        "      <th></th>\n",
        "      <th>Station</th>\n",
        "      <th>Date(local)</th>\n",
        "      <th>Time(local)</th>\n",
        "      <th>Tair(C)</th>\n",
        "      <th>Twet(C)</th>\n",
        "      <th>RH(%)</th>\n",
        "      <th>Tdew(C)</th>\n",
        "    </tr>\n",
        "  </thead>\n",
        "  <tbody>\n",
        "    <tr>\n",
        "      <th>0</th>\n",
        "      <td> Kaikohe Aws</td>\n",
        "      <td>1985-11-15</td>\n",
        "      <td> 09:00:00</td>\n",
        "      <td> 14.3</td>\n",
        "      <td>   12</td>\n",
        "      <td> 74.8</td>\n",
        "      <td>  9.9</td>\n",
        "    </tr>\n",
        "    <tr>\n",
        "      <th>1</th>\n",
        "      <td> Kaikohe Aws</td>\n",
        "      <td>1985-11-15</td>\n",
        "      <td> 12:00:00</td>\n",
        "      <td> 15.8</td>\n",
        "      <td> 12.2</td>\n",
        "      <td> 63.1</td>\n",
        "      <td>  8.8</td>\n",
        "    </tr>\n",
        "    <tr>\n",
        "      <th>2</th>\n",
        "      <td> Kaikohe Aws</td>\n",
        "      <td>1985-11-16</td>\n",
        "      <td> 09:00:00</td>\n",
        "      <td> 14.5</td>\n",
        "      <td> 12.3</td>\n",
        "      <td>   76</td>\n",
        "      <td> 10.3</td>\n",
        "    </tr>\n",
        "    <tr>\n",
        "      <th>3</th>\n",
        "      <td> Kaikohe Aws</td>\n",
        "      <td>1985-11-16</td>\n",
        "      <td> 12:00:00</td>\n",
        "      <td> 16.8</td>\n",
        "      <td> 13.5</td>\n",
        "      <td> 67.1</td>\n",
        "      <td> 10.7</td>\n",
        "    </tr>\n",
        "    <tr>\n",
        "      <th>4</th>\n",
        "      <td> Kaikohe Aws</td>\n",
        "      <td>1985-11-17</td>\n",
        "      <td> 09:00:00</td>\n",
        "      <td> 15.1</td>\n",
        "      <td> 12.7</td>\n",
        "      <td> 74.4</td>\n",
        "      <td> 10.6</td>\n",
        "    </tr>\n",
        "  </tbody>\n",
        "</table>\n",
        "<p>5 rows \u00d7 7 columns</p>\n",
        "</div>"
       ],
       "metadata": {},
       "output_type": "pyout",
       "prompt_number": 23,
       "text": [
        "       Station Date(local) Time(local)  Tair(C) Twet(C) RH(%) Tdew(C)\n",
        "0  Kaikohe Aws  1985-11-15    09:00:00     14.3      12  74.8     9.9\n",
        "1  Kaikohe Aws  1985-11-15    12:00:00     15.8    12.2  63.1     8.8\n",
        "2  Kaikohe Aws  1985-11-16    09:00:00     14.5    12.3    76    10.3\n",
        "3  Kaikohe Aws  1985-11-16    12:00:00     16.8    13.5  67.1    10.7\n",
        "4  Kaikohe Aws  1985-11-17    09:00:00     15.1    12.7  74.4    10.6\n",
        "\n",
        "[5 rows x 7 columns]"
       ]
      }
     ],
     "prompt_number": 23
    },
    {
     "cell_type": "heading",
     "level": 3,
     "metadata": {},
     "source": [
      "The sheet contains missing values "
     ]
    },
    {
     "cell_type": "code",
     "collapsed": false,
     "input": [
      "any(pd.isnull(data))"
     ],
     "language": "python",
     "metadata": {},
     "outputs": [
      {
       "metadata": {},
       "output_type": "pyout",
       "prompt_number": 24,
       "text": [
        "True"
       ]
      }
     ],
     "prompt_number": 24
    },
    {
     "cell_type": "heading",
     "level": 3,
     "metadata": {},
     "source": [
      "get the 9AM and 12AM data into 2 different DataFrames "
     ]
    },
    {
     "cell_type": "code",
     "collapsed": false,
     "input": [
      "data9AM = data[data['Time(local)'] == datetime.time(9, 0)]\n",
      "data12PM = data[data['Time(local)'] == datetime.time(12, 0)]"
     ],
     "language": "python",
     "metadata": {},
     "outputs": [],
     "prompt_number": 25
    },
    {
     "cell_type": "code",
     "collapsed": false,
     "input": [
      "data9AM.head()"
     ],
     "language": "python",
     "metadata": {},
     "outputs": [
      {
       "html": [
        "<div style=\"max-height:1000px;max-width:1500px;overflow:auto;\">\n",
        "<table border=\"1\" class=\"dataframe\">\n",
        "  <thead>\n",
        "    <tr style=\"text-align: right;\">\n",
        "      <th></th>\n",
        "      <th>Station</th>\n",
        "      <th>Date(local)</th>\n",
        "      <th>Time(local)</th>\n",
        "      <th>Tair(C)</th>\n",
        "      <th>Twet(C)</th>\n",
        "      <th>RH(%)</th>\n",
        "      <th>Tdew(C)</th>\n",
        "    </tr>\n",
        "  </thead>\n",
        "  <tbody>\n",
        "    <tr>\n",
        "      <th>0</th>\n",
        "      <td> Kaikohe Aws</td>\n",
        "      <td>1985-11-15</td>\n",
        "      <td> 09:00:00</td>\n",
        "      <td> 14.3</td>\n",
        "      <td>   12</td>\n",
        "      <td> 74.8</td>\n",
        "      <td>  9.9</td>\n",
        "    </tr>\n",
        "    <tr>\n",
        "      <th>2</th>\n",
        "      <td> Kaikohe Aws</td>\n",
        "      <td>1985-11-16</td>\n",
        "      <td> 09:00:00</td>\n",
        "      <td> 14.5</td>\n",
        "      <td> 12.3</td>\n",
        "      <td>   76</td>\n",
        "      <td> 10.3</td>\n",
        "    </tr>\n",
        "    <tr>\n",
        "      <th>4</th>\n",
        "      <td> Kaikohe Aws</td>\n",
        "      <td>1985-11-17</td>\n",
        "      <td> 09:00:00</td>\n",
        "      <td> 15.1</td>\n",
        "      <td> 12.7</td>\n",
        "      <td> 74.4</td>\n",
        "      <td> 10.6</td>\n",
        "    </tr>\n",
        "    <tr>\n",
        "      <th>6</th>\n",
        "      <td> Kaikohe Aws</td>\n",
        "      <td>1985-11-18</td>\n",
        "      <td> 09:00:00</td>\n",
        "      <td> 15.8</td>\n",
        "      <td>   14</td>\n",
        "      <td>   81</td>\n",
        "      <td> 12.6</td>\n",
        "    </tr>\n",
        "    <tr>\n",
        "      <th>8</th>\n",
        "      <td> Kaikohe Aws</td>\n",
        "      <td>1985-11-19</td>\n",
        "      <td> 09:00:00</td>\n",
        "      <td> 16.0</td>\n",
        "      <td> 14.8</td>\n",
        "      <td> 87.3</td>\n",
        "      <td> 13.9</td>\n",
        "    </tr>\n",
        "  </tbody>\n",
        "</table>\n",
        "<p>5 rows \u00d7 7 columns</p>\n",
        "</div>"
       ],
       "metadata": {},
       "output_type": "pyout",
       "prompt_number": 26,
       "text": [
        "       Station Date(local) Time(local)  Tair(C) Twet(C) RH(%) Tdew(C)\n",
        "0  Kaikohe Aws  1985-11-15    09:00:00     14.3      12  74.8     9.9\n",
        "2  Kaikohe Aws  1985-11-16    09:00:00     14.5    12.3    76    10.3\n",
        "4  Kaikohe Aws  1985-11-17    09:00:00     15.1    12.7  74.4    10.6\n",
        "6  Kaikohe Aws  1985-11-18    09:00:00     15.8      14    81    12.6\n",
        "8  Kaikohe Aws  1985-11-19    09:00:00     16.0    14.8  87.3    13.9\n",
        "\n",
        "[5 rows x 7 columns]"
       ]
      }
     ],
     "prompt_number": 26
    },
    {
     "cell_type": "code",
     "collapsed": false,
     "input": [
      "data12PM.head()"
     ],
     "language": "python",
     "metadata": {},
     "outputs": [
      {
       "html": [
        "<div style=\"max-height:1000px;max-width:1500px;overflow:auto;\">\n",
        "<table border=\"1\" class=\"dataframe\">\n",
        "  <thead>\n",
        "    <tr style=\"text-align: right;\">\n",
        "      <th></th>\n",
        "      <th>Station</th>\n",
        "      <th>Date(local)</th>\n",
        "      <th>Time(local)</th>\n",
        "      <th>Tair(C)</th>\n",
        "      <th>Twet(C)</th>\n",
        "      <th>RH(%)</th>\n",
        "      <th>Tdew(C)</th>\n",
        "    </tr>\n",
        "  </thead>\n",
        "  <tbody>\n",
        "    <tr>\n",
        "      <th>1</th>\n",
        "      <td> Kaikohe Aws</td>\n",
        "      <td>1985-11-15</td>\n",
        "      <td> 12:00:00</td>\n",
        "      <td> 15.8</td>\n",
        "      <td> 12.2</td>\n",
        "      <td> 63.1</td>\n",
        "      <td>  8.8</td>\n",
        "    </tr>\n",
        "    <tr>\n",
        "      <th>3</th>\n",
        "      <td> Kaikohe Aws</td>\n",
        "      <td>1985-11-16</td>\n",
        "      <td> 12:00:00</td>\n",
        "      <td> 16.8</td>\n",
        "      <td> 13.5</td>\n",
        "      <td> 67.1</td>\n",
        "      <td> 10.7</td>\n",
        "    </tr>\n",
        "    <tr>\n",
        "      <th>5</th>\n",
        "      <td> Kaikohe Aws</td>\n",
        "      <td>1985-11-17</td>\n",
        "      <td> 12:00:00</td>\n",
        "      <td> 16.8</td>\n",
        "      <td> 13.4</td>\n",
        "      <td> 66.2</td>\n",
        "      <td> 10.5</td>\n",
        "    </tr>\n",
        "    <tr>\n",
        "      <th>7</th>\n",
        "      <td> Kaikohe Aws</td>\n",
        "      <td>1985-11-18</td>\n",
        "      <td> 12:00:00</td>\n",
        "      <td> 17.4</td>\n",
        "      <td> 14.5</td>\n",
        "      <td> 71.4</td>\n",
        "      <td> 12.2</td>\n",
        "    </tr>\n",
        "    <tr>\n",
        "      <th>9</th>\n",
        "      <td> Kaikohe Aws</td>\n",
        "      <td>1985-11-19</td>\n",
        "      <td> 12:00:00</td>\n",
        "      <td> 16.8</td>\n",
        "      <td> 15.6</td>\n",
        "      <td> 87.6</td>\n",
        "      <td> 14.7</td>\n",
        "    </tr>\n",
        "  </tbody>\n",
        "</table>\n",
        "<p>5 rows \u00d7 7 columns</p>\n",
        "</div>"
       ],
       "metadata": {},
       "output_type": "pyout",
       "prompt_number": 27,
       "text": [
        "       Station Date(local) Time(local)  Tair(C) Twet(C) RH(%) Tdew(C)\n",
        "1  Kaikohe Aws  1985-11-15    12:00:00     15.8    12.2  63.1     8.8\n",
        "3  Kaikohe Aws  1985-11-16    12:00:00     16.8    13.5  67.1    10.7\n",
        "5  Kaikohe Aws  1985-11-17    12:00:00     16.8    13.4  66.2    10.5\n",
        "7  Kaikohe Aws  1985-11-18    12:00:00     17.4    14.5  71.4    12.2\n",
        "9  Kaikohe Aws  1985-11-19    12:00:00     16.8    15.6  87.6    14.7\n",
        "\n",
        "[5 rows x 7 columns]"
       ]
      }
     ],
     "prompt_number": 27
    },
    {
     "cell_type": "heading",
     "level": 3,
     "metadata": {},
     "source": [
      "set the index to be the date"
     ]
    },
    {
     "cell_type": "code",
     "collapsed": false,
     "input": [
      "data9AM.index = data9AM['Date(local)']\n",
      "data12PM.index = data12PM['Date(local)']"
     ],
     "language": "python",
     "metadata": {},
     "outputs": [],
     "prompt_number": 28
    },
    {
     "cell_type": "heading",
     "level": 3,
     "metadata": {},
     "source": [
      "One can see that some timestamps are indeed missing"
     ]
    },
    {
     "cell_type": "code",
     "collapsed": false,
     "input": [
      "datescont = pd.date_range(start=data9AM.index[0], end=data9AM.index[-1]) # creates a continuous daily calendar"
     ],
     "language": "python",
     "metadata": {},
     "outputs": [],
     "prompt_number": 29
    },
    {
     "cell_type": "code",
     "collapsed": false,
     "input": [
      "len(datescont)"
     ],
     "language": "python",
     "metadata": {},
     "outputs": [
      {
       "metadata": {},
       "output_type": "pyout",
       "prompt_number": 30,
       "text": [
        "9910"
       ]
      }
     ],
     "prompt_number": 30
    },
    {
     "cell_type": "code",
     "collapsed": false,
     "input": [
      "len(data9AM)"
     ],
     "language": "python",
     "metadata": {},
     "outputs": [
      {
       "metadata": {},
       "output_type": "pyout",
       "prompt_number": 31,
       "text": [
        "9502"
       ]
      }
     ],
     "prompt_number": 31
    },
    {
     "cell_type": "heading",
     "level": 3,
     "metadata": {},
     "source": [
      "We then ```reindex``` the data using a continuous datetime index,<br>missing days\n",
      "will be indexed but coded as missing values "
     ]
    },
    {
     "cell_type": "code",
     "collapsed": false,
     "input": [
      "data9AM = data9AM.reindex(pd.date_range(start=data9AM.index[0], end=data9AM.index[-1]))\n",
      "data12AM = data12PM.reindex(pd.date_range(start=data12PM.index[0], end=data12PM.index[-1]))"
     ],
     "language": "python",
     "metadata": {},
     "outputs": [],
     "prompt_number": 32
    },
    {
     "cell_type": "code",
     "collapsed": false,
     "input": [
      "print(len(data9AM))\n",
      "print(len(data12PM))"
     ],
     "language": "python",
     "metadata": {},
     "outputs": [
      {
       "output_type": "stream",
       "stream": "stdout",
       "text": [
        "9910\n",
        "9470\n"
       ]
      }
     ],
     "prompt_number": 33
    },
    {
     "cell_type": "code",
     "collapsed": false,
     "input": [
      "f, ax = plt.subplots(figsize=(10,6))\n",
      "data9AM['Tair(C)'].plot(ax=ax)\n",
      "ax.set_title('Tair(C): 9AM')\n",
      "ax.set_ylabel(u\"\\u00b0\" + \"C\")\n",
      "f.savefig('../figures/9AM_plot.png', dpi=200)"
     ],
     "language": "python",
     "metadata": {},
     "outputs": [
      {
       "metadata": {},
       "output_type": "display_data",
       "png": "[encoded data removed]",
       "text": [
        "<matplotlib.figure.Figure at 0x10c750f90>"
       ]
      }
     ],
     "prompt_number": 48
    },
    {
     "cell_type": "code",
     "collapsed": false,
     "input": [
      "f, ax = plt.subplots(figsize=(10,6))\n",
      "data12PM['Tair(C)'].plot(ax=ax)\n",
      "ax.set_title('Tair(C): 12PM')\n",
      "ax.set_ylabel(u\"\\u00b0\" + \"C\")\n",
      "f.savefig('../figures/12PM_plot.png', dpi=200)"
     ],
     "language": "python",
     "metadata": {},
     "outputs": [
      {
       "metadata": {},
       "output_type": "display_data",
       "png": "[encoded data removed]",
       "text": [
        "<matplotlib.figure.Figure at 0x108a8f7d0>"
       ]
      }
     ],
     "prompt_number": 49
    },
    {
     "cell_type": "code",
     "collapsed": false,
     "input": [
      "data9AM.head()"
     ],
     "language": "python",
     "metadata": {},
     "outputs": [
      {
       "html": [
        "<div style=\"max-height:1000px;max-width:1500px;overflow:auto;\">\n",
        "<table border=\"1\" class=\"dataframe\">\n",
        "  <thead>\n",
        "    <tr style=\"text-align: right;\">\n",
        "      <th></th>\n",
        "      <th>Station</th>\n",
        "      <th>Date(local)</th>\n",
        "      <th>Time(local)</th>\n",
        "      <th>Tair(C)</th>\n",
        "      <th>Twet(C)</th>\n",
        "      <th>RH(%)</th>\n",
        "      <th>Tdew(C)</th>\n",
        "    </tr>\n",
        "  </thead>\n",
        "  <tbody>\n",
        "    <tr>\n",
        "      <th>1985-11-15</th>\n",
        "      <td> Kaikohe Aws</td>\n",
        "      <td>1985-11-15</td>\n",
        "      <td> 09:00:00</td>\n",
        "      <td> 14.3</td>\n",
        "      <td>   12</td>\n",
        "      <td> 74.8</td>\n",
        "      <td>  9.9</td>\n",
        "    </tr>\n",
        "    <tr>\n",
        "      <th>1985-11-16</th>\n",
        "      <td> Kaikohe Aws</td>\n",
        "      <td>1985-11-16</td>\n",
        "      <td> 09:00:00</td>\n",
        "      <td> 14.5</td>\n",
        "      <td> 12.3</td>\n",
        "      <td>   76</td>\n",
        "      <td> 10.3</td>\n",
        "    </tr>\n",
        "    <tr>\n",
        "      <th>1985-11-17</th>\n",
        "      <td> Kaikohe Aws</td>\n",
        "      <td>1985-11-17</td>\n",
        "      <td> 09:00:00</td>\n",
        "      <td> 15.1</td>\n",
        "      <td> 12.7</td>\n",
        "      <td> 74.4</td>\n",
        "      <td> 10.6</td>\n",
        "    </tr>\n",
        "    <tr>\n",
        "      <th>1985-11-18</th>\n",
        "      <td> Kaikohe Aws</td>\n",
        "      <td>1985-11-18</td>\n",
        "      <td> 09:00:00</td>\n",
        "      <td> 15.8</td>\n",
        "      <td>   14</td>\n",
        "      <td>   81</td>\n",
        "      <td> 12.6</td>\n",
        "    </tr>\n",
        "    <tr>\n",
        "      <th>1985-11-19</th>\n",
        "      <td> Kaikohe Aws</td>\n",
        "      <td>1985-11-19</td>\n",
        "      <td> 09:00:00</td>\n",
        "      <td> 16.0</td>\n",
        "      <td> 14.8</td>\n",
        "      <td> 87.3</td>\n",
        "      <td> 13.9</td>\n",
        "    </tr>\n",
        "  </tbody>\n",
        "</table>\n",
        "<p>5 rows \u00d7 7 columns</p>\n",
        "</div>"
       ],
       "metadata": {},
       "output_type": "pyout",
       "prompt_number": 50,
       "text": [
        "                Station Date(local) Time(local)  Tair(C) Twet(C) RH(%) Tdew(C)\n",
        "1985-11-15  Kaikohe Aws  1985-11-15    09:00:00     14.3      12  74.8     9.9\n",
        "1985-11-16  Kaikohe Aws  1985-11-16    09:00:00     14.5    12.3    76    10.3\n",
        "1985-11-17  Kaikohe Aws  1985-11-17    09:00:00     15.1    12.7  74.4    10.6\n",
        "1985-11-18  Kaikohe Aws  1985-11-18    09:00:00     15.8      14    81    12.6\n",
        "1985-11-19  Kaikohe Aws  1985-11-19    09:00:00     16.0    14.8  87.3    13.9\n",
        "\n",
        "[5 rows x 7 columns]"
       ]
      }
     ],
     "prompt_number": 50
    },
    {
     "cell_type": "code",
     "collapsed": false,
     "input": [
      "data12PM.head()"
     ],
     "language": "python",
     "metadata": {},
     "outputs": [
      {
       "html": [
        "<div style=\"max-height:1000px;max-width:1500px;overflow:auto;\">\n",
        "<table border=\"1\" class=\"dataframe\">\n",
        "  <thead>\n",
        "    <tr style=\"text-align: right;\">\n",
        "      <th></th>\n",
        "      <th>Station</th>\n",
        "      <th>Date(local)</th>\n",
        "      <th>Time(local)</th>\n",
        "      <th>Tair(C)</th>\n",
        "      <th>Twet(C)</th>\n",
        "      <th>RH(%)</th>\n",
        "      <th>Tdew(C)</th>\n",
        "    </tr>\n",
        "    <tr>\n",
        "      <th>Date(local)</th>\n",
        "      <th></th>\n",
        "      <th></th>\n",
        "      <th></th>\n",
        "      <th></th>\n",
        "      <th></th>\n",
        "      <th></th>\n",
        "      <th></th>\n",
        "    </tr>\n",
        "  </thead>\n",
        "  <tbody>\n",
        "    <tr>\n",
        "      <th>1985-11-15</th>\n",
        "      <td> Kaikohe Aws</td>\n",
        "      <td>1985-11-15</td>\n",
        "      <td> 12:00:00</td>\n",
        "      <td> 15.8</td>\n",
        "      <td> 12.2</td>\n",
        "      <td> 63.1</td>\n",
        "      <td>  8.8</td>\n",
        "    </tr>\n",
        "    <tr>\n",
        "      <th>1985-11-16</th>\n",
        "      <td> Kaikohe Aws</td>\n",
        "      <td>1985-11-16</td>\n",
        "      <td> 12:00:00</td>\n",
        "      <td> 16.8</td>\n",
        "      <td> 13.5</td>\n",
        "      <td> 67.1</td>\n",
        "      <td> 10.7</td>\n",
        "    </tr>\n",
        "    <tr>\n",
        "      <th>1985-11-17</th>\n",
        "      <td> Kaikohe Aws</td>\n",
        "      <td>1985-11-17</td>\n",
        "      <td> 12:00:00</td>\n",
        "      <td> 16.8</td>\n",
        "      <td> 13.4</td>\n",
        "      <td> 66.2</td>\n",
        "      <td> 10.5</td>\n",
        "    </tr>\n",
        "    <tr>\n",
        "      <th>1985-11-18</th>\n",
        "      <td> Kaikohe Aws</td>\n",
        "      <td>1985-11-18</td>\n",
        "      <td> 12:00:00</td>\n",
        "      <td> 17.4</td>\n",
        "      <td> 14.5</td>\n",
        "      <td> 71.4</td>\n",
        "      <td> 12.2</td>\n",
        "    </tr>\n",
        "    <tr>\n",
        "      <th>1985-11-19</th>\n",
        "      <td> Kaikohe Aws</td>\n",
        "      <td>1985-11-19</td>\n",
        "      <td> 12:00:00</td>\n",
        "      <td> 16.8</td>\n",
        "      <td> 15.6</td>\n",
        "      <td> 87.6</td>\n",
        "      <td> 14.7</td>\n",
        "    </tr>\n",
        "  </tbody>\n",
        "</table>\n",
        "<p>5 rows \u00d7 7 columns</p>\n",
        "</div>"
       ],
       "metadata": {},
       "output_type": "pyout",
       "prompt_number": 51,
       "text": [
        "                 Station Date(local) Time(local)  Tair(C) Twet(C) RH(%)  \\\n",
        "Date(local)                                                               \n",
        "1985-11-15   Kaikohe Aws  1985-11-15    12:00:00     15.8    12.2  63.1   \n",
        "1985-11-16   Kaikohe Aws  1985-11-16    12:00:00     16.8    13.5  67.1   \n",
        "1985-11-17   Kaikohe Aws  1985-11-17    12:00:00     16.8    13.4  66.2   \n",
        "1985-11-18   Kaikohe Aws  1985-11-18    12:00:00     17.4    14.5  71.4   \n",
        "1985-11-19   Kaikohe Aws  1985-11-19    12:00:00     16.8    15.6  87.6   \n",
        "\n",
        "            Tdew(C)  \n",
        "Date(local)          \n",
        "1985-11-15      8.8  \n",
        "1985-11-16     10.7  \n",
        "1985-11-17     10.5  \n",
        "1985-11-18     12.2  \n",
        "1985-11-19     14.7  \n",
        "\n",
        "[5 rows x 7 columns]"
       ]
      }
     ],
     "prompt_number": 51
    },
    {
     "cell_type": "heading",
     "level": 3,
     "metadata": {},
     "source": [
      "Saves into Excel spreadsheets "
     ]
    },
    {
     "cell_type": "code",
     "collapsed": false,
     "input": [
      "data9AM.to_excel('../outputs/9AM_KaikoheAWS_corrected.xls')"
     ],
     "language": "python",
     "metadata": {},
     "outputs": [],
     "prompt_number": 52
    },
    {
     "cell_type": "code",
     "collapsed": false,
     "input": [
      "data9AM.to_excel('../outputs/9AM_KaikoheAWS_corrected.xls')"
     ],
     "language": "python",
     "metadata": {},
     "outputs": [],
     "prompt_number": 53
    }
   ],
   "metadata": {}
  }
 ]
}